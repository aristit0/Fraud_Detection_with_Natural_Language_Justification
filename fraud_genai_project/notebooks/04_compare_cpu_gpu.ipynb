{
 "cells": [
  {
   "cell_type": "code",
   "execution_count": null,
   "id": "f6cb938e",
   "metadata": {
    "vscode": {
     "languageId": "plaintext"
    }
   },
   "outputs": [],
   "source": [
    "# Folder: notebooks/04_compare_cpu_gpu.ipynb\n",
    "import time\n",
    "start = time.time()\n",
    "model.encode(texts[:10000], device=\"cpu\")\n",
    "print(\"CPU time:\", time.time() - start)\n",
    "\n"
   ]
  },
  {
   "cell_type": "code",
   "execution_count": null,
   "id": "99c4c078",
   "metadata": {
    "vscode": {
     "languageId": "plaintext"
    }
   },
   "outputs": [],
   "source": [
    "start = time.time()\n",
    "model.encode(texts[:10000], device=\"cuda\")\n",
    "print(\"GPU time:\", time.time() - start)"
   ]
  }
 ],
 "metadata": {
  "language_info": {
   "name": "python"
  }
 },
 "nbformat": 4,
 "nbformat_minor": 5
}
