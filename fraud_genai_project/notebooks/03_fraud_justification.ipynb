{
 "cells": [
  {
   "cell_type": "code",
   "execution_count": null,
   "id": "2ec98a5d",
   "metadata": {
    "vscode": {
     "languageId": "plaintext"
    }
   },
   "outputs": [],
   "source": [
    "# Folder: notebooks/03_fraud_justification.ipynb\n",
    "from transformers import pipeline\n",
    "classifier = pipeline(\"text-classification\", model=\"distilbert-base-uncased-finetuned-sst-2-english\")\n",
    "prompt = \"A user made 3 purchases in different countries within 5 minutes. Is this fraud?\"\n",
    "result = classifier(prompt)\n",
    "print(result)"
   ]
  }
 ],
 "metadata": {
  "language_info": {
   "name": "python"
  }
 },
 "nbformat": 4,
 "nbformat_minor": 5
}
