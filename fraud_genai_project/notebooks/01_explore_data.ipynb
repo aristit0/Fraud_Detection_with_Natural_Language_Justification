{
 "cells": [
  {
   "cell_type": "code",
   "execution_count": null,
   "id": "fd3f74c3",
   "metadata": {
    "vscode": {
     "languageId": "plaintext"
    }
   },
   "outputs": [],
   "source": [
    "# Folder: notebooks/01_explore_data.ipynb\n",
    "# Markdown and basic queries using PySpark (example shown here as script)\n",
    "from pyspark.sql import SparkSession\n",
    "spark = SparkSession.builder.enableHiveSupport().getOrCreate()\n",
    "df = spark.sql(\"SELECT * FROM datamart.fraud_transactions LIMIT 100\")\n",
    "df.show()\n",
    "df.groupBy(\"category\").count().show()\n",
    "df.groupBy(\"is_fraud\").count().show()"
   ]
  }
 ],
 "metadata": {
  "language_info": {
   "name": "python"
  }
 },
 "nbformat": 4,
 "nbformat_minor": 5
}
