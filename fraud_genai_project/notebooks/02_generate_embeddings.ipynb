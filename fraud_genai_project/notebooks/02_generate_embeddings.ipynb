{
 "cells": [
  {
   "cell_type": "code",
   "execution_count": null,
   "id": "501a620b",
   "metadata": {
    "vscode": {
     "languageId": "plaintext"
    }
   },
   "outputs": [],
   "source": [
    "# Folder: notebooks/02_generate_embeddings.ipynb\n",
    "from sentence_transformers import SentenceTransformer\n",
    "from pyspark.sql.functions import concat_ws\n",
    "\n",
    "model = SentenceTransformer('BAAI/bge-small-en-v1.5')\n",
    "df = spark.sql(\"SELECT * FROM datamart.fraud_transactions\")\n",
    "texts = df.withColumn(\"text\", concat_ws(\" \", \"user_id\", \"amount\", \"category\", \"country\")).select(\"text\").rdd.map(lambda r: r[0]).collect()\n",
    "embeddings = model.encode(texts, show_progress_bar=True, batch_size=64)"
   ]
  }
 ],
 "metadata": {
  "language_info": {
   "name": "python"
  }
 },
 "nbformat": 4,
 "nbformat_minor": 5
}
