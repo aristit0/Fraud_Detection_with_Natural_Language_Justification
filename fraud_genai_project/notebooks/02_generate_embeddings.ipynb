{
 "cells": [
  {
   "cell_type": "code",
   "execution_count": null,
   "id": "501a620b",
   "metadata": {
    "vscode": {
     "languageId": "plaintext"
    }
   },
   "outputs": [],
   "source": [
    "from pyspark.sql import SparkSession\n",
    "from pyspark.sql.functions import concat_ws\n",
    "from sentence_transformers import SentenceTransformer\n",
    "import pandas as pd\n",
    "import numpy as np\n",
    "\n",
    "# Step 1: Spark session\n",
    "spark = SparkSession.builder \\\n",
    "    .appName(\"DistributedEmbedding\") \\\n",
    "    .config(\"spark.executor.memory\", \"8g\") \\\n",
    "    .config(\"spark.driver.memory\", \"16g\") \\\n",
    "    .config(\"spark.executor.cores\", \"4\") \\\n",
    "    .config(\"spark.sql.shuffle.partitions\", \"100\") \\\n",
    "    .enableHiveSupport() \\\n",
    "    .getOrCreate()\n",
    "\n",
    "# Step 2: Load Hive table\n",
    "df = spark.sql(\"SELECT transaction_id, user_id, amount, category, country FROM datamart.fraud_transactions\")\n",
    "\n",
    "# Step 3: Add 'text' column for embedding input\n",
    "df = df.withColumn(\"text\", concat_ws(\" \", \"user_id\", \"amount\", \"category\", \"country\"))\n",
    "\n",
    "# Step 4: Define function to run inside Spark workers\n",
    "def embed_partition(pdf: pd.DataFrame) -> pd.DataFrame:\n",
    "    from sentence_transformers import SentenceTransformer\n",
    "    model = SentenceTransformer(\"BAAI/bge-small-en-v1.5\")  # GPU-enabled if available\n",
    "\n",
    "    texts = pdf[\"text\"].tolist()\n",
    "    embeddings = list(model.encode(texts, show_progress_bar=False, batch_size=64))  # FIXED\n",
    "    embedding_cols = [f\"emb_{i}\" for i in range(len(embeddings[0]))]\n",
    "    emb_df = pd.DataFrame(embeddings, columns=embedding_cols)\n",
    "    emb_df[\"transaction_id\"] = pdf[\"transaction_id\"].values\n",
    "    return emb_df\n",
    "\n",
    "# Step 5: Run distributed embedding using mapInPandas\n",
    "schema = \"transaction_id LONG, \" + \", \".join([f\"emb_{i} FLOAT\" for i in range(384)])  # 384 dims for bge-small\n",
    "\n",
    "embedding_df = df.select(\"transaction_id\", \"text\") \\\n",
    "    .repartition(100) \\\n",
    "    .mapInPandas(embed_partition, schema=schema)\n",
    "\n",
    "# Step 6: Write embeddings to Hive or Parquet\n",
    "embedding_df.write.mode(\"overwrite\").parquet(\"hdfs:///tmp/fraud_embeddings_parquet\")\n",
    "print(\"✅ Embeddings written to HDFS: /tmp/fraud_embeddings_parquet\")"
   ]
  }
 ],
 "metadata": {
  "language_info": {
   "name": "python"
  }
 },
 "nbformat": 4,
 "nbformat_minor": 5
}
